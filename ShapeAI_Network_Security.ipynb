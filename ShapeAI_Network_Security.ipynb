{
  "nbformat": 4,
  "nbformat_minor": 0,
  "metadata": {
    "colab": {
      "name": "ShapeAI_Network_Security.ipynb",
      "provenance": [],
      "collapsed_sections": []
    },
    "kernelspec": {
      "name": "python3",
      "display_name": "Python 3"
    },
    "language_info": {
      "name": "python"
    }
  },
  "cells": [
    {
      "cell_type": "code",
      "metadata": {
        "id": "-FB9ZucB0VLM"
      },
      "source": [
        "import hashlib"
      ],
      "execution_count": null,
      "outputs": []
    },
    {
      "cell_type": "markdown",
      "metadata": {
        "id": "s3XO9SaaL5Rb"
      },
      "source": [
        "\n",
        "PROJECT 1: WRITE A PROGRAM IN PYTHON TO GENERATE MD5 OF STRING DATA."
      ]
    },
    {
      "cell_type": "code",
      "metadata": {
        "colab": {
          "base_uri": "https://localhost:8080/"
        },
        "id": "kukyiBYC03lL",
        "outputId": "e357de84-80c0-4c25-e546-1f5e7f4621de"
      },
      "source": [
        "def md5_func():\n",
        "  data=input('Enter String To be Hashed Using Message Digest 5(MD5) ALgorithm-->') #taking i/p frm user\n",
        "  result=data.encode(\"utf-8\") \n",
        "  #A format in the Unicode coding system that uses from one to four bytes.\n",
        "  # When coding the English language, only one byte is used per character like regular ASCII encoding. \n",
        "  hashvalue=hashlib.md5(result)\n",
        "  hexValue=hashvalue.hexdigest()\n",
        "  print(hexValue)\n",
        "  return\n",
        "\n",
        "md5_func()"
      ],
      "execution_count": null,
      "outputs": [
        {
          "output_type": "stream",
          "text": [
            "Enter String To be Hashed Using Message Digest 5(MD5) ALgorithm-->raj shukla\n",
            "09a0a6035b21e78bfc25f40155a76d45\n"
          ],
          "name": "stdout"
        }
      ]
    },
    {
      "cell_type": "markdown",
      "metadata": {
        "id": "k7MYAuzlMB9J"
      },
      "source": [
        "PROJECT 2: WRITE A PROGRAM IN PYTHON TO GENERATE HASHES OF GIVEN STRING USING 3 ALGORITHMS FROM hashlib."
      ]
    },
    {
      "cell_type": "code",
      "metadata": {
        "colab": {
          "base_uri": "https://localhost:8080/"
        },
        "id": "SYM66rVH2ME-",
        "outputId": "1d1e25b2-26bb-4d52-c2f9-2900240b357d"
      },
      "source": [
        "def SHA256_func():\n",
        "  data=input('Enter Sting To be Hashed Using Secure Hash Algorithm-256(SHA-256)-->')\n",
        "  encoded=data.encode(\"utf-8\") \n",
        "  hashvalue=hashlib.sha256(encoded) #sha256\n",
        "  hexvalue=hashvalue.hexdigest()\n",
        "  print(hexvalue)\n",
        "  return\n",
        "\n",
        "SHA256_func()\n",
        "\n",
        "def SHA512_func():\n",
        "  data=input('Enter Sting To be Hashed Using Secure Hash Algorithm-512(SHA-512)-->')\n",
        "  encoded=data.encode(\"utf-8\") \n",
        "  hashvalue=hashlib.sha512(encoded) #sha512\n",
        "  hexvalue=hashvalue.hexdigest()\n",
        "  print(hexvalue)\n",
        "  return\n",
        "  \n",
        "SHA512_func()\n",
        "\n",
        "def SHA384_func():\n",
        "  data=input('Enter Sting To be Hashed Using Secure Hash Algorithm-384(SHA-384)-->')\n",
        "  encoded=data.encode(\"utf-8\") \n",
        "\n",
        "  hashvalue=hashlib.sha384(encoded) #sha384\n",
        "  hexvalue=hashvalue.hexdigest()\n",
        "  print(hexvalue)\n",
        "  return\n",
        "  \n",
        "SHA384_func()\n",
        "\n",
        "\n"
      ],
      "execution_count": null,
      "outputs": [
        {
          "output_type": "stream",
          "text": [
            "Enter Sting To be Hashed Using Secure Hash Algorithm-256(SHA-256)-->raj shukla\n",
            "272f2f7acd4274f3fccd1515da0076967582b34ad891f901fed031160c11aac7\n",
            "Enter Sting To be Hashed Using Secure Hash Algorithm-512(SHA-512)-->raj shukla\n",
            "f758e79f824016a2c177b78efb7c6b688b34fd86ce95bed5b824e5ed89270d6d7d2b9a38468aba74805b8a53265a20ef6ee4d03d4d3cba2399ea5e9a95f3afcd\n",
            "Enter Sting To be Hashed Using Secure Hash Algorithm-384(SHA-384)-->raj shukla\n",
            "ea20920c0ca923a197147ef2f813ddcccc905302776ce24a07884383b4598903f428637ab22170d6769ba0371f16654c\n"
          ],
          "name": "stdout"
        }
      ]
    }
  ]
}